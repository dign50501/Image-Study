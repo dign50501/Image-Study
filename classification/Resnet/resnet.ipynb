{
 "cells": [
  {
   "cell_type": "code",
   "execution_count": 10,
   "metadata": {},
   "outputs": [],
   "source": [
    "from model import *"
   ]
  },
  {
   "cell_type": "code",
   "execution_count": 11,
   "metadata": {},
   "outputs": [],
   "source": [
    "x = torch.randn(3,3,224,224)"
   ]
  },
  {
   "cell_type": "code",
   "execution_count": 12,
   "metadata": {},
   "outputs": [],
   "source": [
    "resnet = resnet50()"
   ]
  },
  {
   "cell_type": "code",
   "execution_count": 13,
   "metadata": {},
   "outputs": [
    {
     "data": {
      "text/plain": [
       "torch.Size([3, 1000])"
      ]
     },
     "execution_count": 13,
     "metadata": {},
     "output_type": "execute_result"
    }
   ],
   "source": [
    "resnet(x).shape"
   ]
  },
  {
   "cell_type": "code",
   "execution_count": null,
   "metadata": {},
   "outputs": [],
   "source": [
    "import os\n",
    "import yaml\n",
    "\n",
    "import torch\n",
    "import torch.nn as nn\n",
    "\n",
    "from utils import Config, eval_accuracy\n",
    "from torch.utils.data import Dataset, DataLoader\n",
    "\n",
    "from model import *\n",
    "\n",
    "\n",
    "\n",
    "def train(train_dataloader, test_dataloader, device, config):\n",
    "    if config.model == 'resnet18':\n",
    "        model = resnet18(num_classes=config.num_classes)\n",
    "    elif config.model == 'resnet34':\n",
    "        model = resnet34(num_classes=config.num_classes)\n",
    "    elif config.model == 'resnet50':\n",
    "        model = resnet50(num_classes=config.num_classes)\n",
    "    elif config.model == 'resnet101':\n",
    "        model = resnet101(num_classes=config.num_classes)\n",
    "    elif config.model == 'resnet152':\n",
    "        model = resnet152(num_classes=config.num_classes)\n",
    "    else:\n",
    "        print(\"Not implemented error\")\n",
    "        return\n",
    "\n",
    "    model = model.to(device)\n",
    "    criterion = nn.CrossEntropyLoss() # loss for the network\n",
    "    optimizer = torch.optim.Adam(model.parameters(), lr=config.lr) # optimizer to perform gradient descent\n",
    "\n",
    "\n",
    "    for epoch in range(config.num_epochs):\n",
    "        loss_sum = 0.\n",
    "        model.train()\n",
    "\n",
    "        for j, (x, y) in enumerate(train_dataloader):\n",
    "\n",
    "            x = x.to(device)\n",
    "            y = y.to(device)\n",
    "\n",
    "            output = model(x)\n",
    "\n",
    "            loss = criterion(output, y)\n",
    "\n",
    "            optimizer.zero_grad()\n",
    "            loss.backward()\n",
    "            optimizer.step()\n",
    "\n",
    "            model.eval() # model validation\n",
    "            loss_sum += loss.item()\n",
    "\n",
    "        test_acc = eval_accuracy(model, test_dataloader, device)\n",
    "\n",
    "        print(\"Epoch [{:2d}/{}], Loss : {:.3f},Test Accuracy : {:.3f}\".format(epoch+1,\n",
    "                config.num_epochs, loss_sum/len(train_dataloader), test_acc))\n",
    "\n",
    "\n",
    "    model_name = '{}.pth'.format(config.model)\n",
    "    torch.save(model.state_dict(),join(config.CHK_DIR,model_name))\n",
    "\n",
    "if __name__ == '__main__':\n",
    "    config = Config(\"config.yaml\") # load config\n",
    "\n",
    "    os.environ['CUDA_VISIBLE_DEVICES'] = str(config.GPU) # choose which gpu to use\n",
    "\n",
    "    device = torch.device(\"cuda:\" if torch.cuda.is_available() else \"cpu\")\n",
    "\n",
    "    # Image normalization\n",
    "    transform = transforms.Compose([transforms.ToTensor(),\n",
    "                                    transforms.Normalize((0.5, 0.5, 0.5), (0.5, 0.5, 0.5))])\n",
    "\n",
    "    train_dataloader = DataLoader(datasets.CIFAR10(root='./data', train=True,\n",
    "                                                   download=True, transform=transform), batch_size=config.batch_size,\n",
    "                                                   shuffle=True, num_workers=config.num_workers)\n",
    "\n",
    "    test_dataloader = DataLoader(datasets.CIFAR10(root='./data', train=False,\n",
    "                                                  download=True, transform=transform), batch_size=config.batch_size,\n",
    "                                                  shuffle=False, num_workers=config.num_workers)\n",
    "\n",
    "    train(train_dataloader, test_dataloader, device, config)\n"
   ]
  }
 ],
 "metadata": {
  "kernelspec": {
   "display_name": "Python 3",
   "language": "python",
   "name": "python3"
  },
  "language_info": {
   "codemirror_mode": {
    "name": "ipython",
    "version": 3
   },
   "file_extension": ".py",
   "mimetype": "text/x-python",
   "name": "python",
   "nbconvert_exporter": "python",
   "pygments_lexer": "ipython3",
   "version": "3.7.4"
  }
 },
 "nbformat": 4,
 "nbformat_minor": 2
}
